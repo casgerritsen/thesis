{
 "cells": [
  {
   "cell_type": "markdown",
   "metadata": {},
   "source": [
    "This file...    \n",
    "...contains code to implement the left-to-right transformation (*standardize_attack_direction_with_period()*),  \n",
    "...labels scoring and conceding actions (*scores()* and *concedes()*),  \n",
    "...creates the game states (*add_previous_actions_features()*).\n",
    "\n"
   ]
  },
  {
   "cell_type": "code",
   "execution_count": 1,
   "metadata": {},
   "outputs": [],
   "source": [
    "import pandas as pd"
   ]
  },
  {
   "cell_type": "code",
   "execution_count": null,
   "metadata": {},
   "outputs": [],
   "source": [
    "df = pd.read_csv('../../processed_data/all_actions_4.0.csv')"
   ]
  },
  {
   "cell_type": "code",
   "execution_count": 3,
   "metadata": {},
   "outputs": [],
   "source": [
    "df['team'] = df['team'].map({True: 1, False: 0})"
   ]
  },
  {
   "cell_type": "code",
   "execution_count": 4,
   "metadata": {},
   "outputs": [
    {
     "name": "stdout",
     "output_type": "stream",
     "text": [
      "Index(['game_id', 'timestamp', 'period', 'actiontype', 'actiontype_eventpass',\n",
      "       'actiontype_eventshot', 'actiontype_eventturnover',\n",
      "       'actionresult_success', 'actionresult_miss', 'time', 'team',\n",
      "       'start_x_ai', 'start_z_ai', 'end_x_ai', 'end_z_ai',\n",
      "       'start_dist_to_goal_ai', 'start_angle_to_angle_ai',\n",
      "       'end_dist_to_goal_ai', 'end_angle_to_angle_ai', 'movement_ai',\n",
      "       'goalscore_team', 'goalscore_opponent', 'goalscore_diff',\n",
      "       'home_strength', 'visitor_strength', 'strength_difference',\n",
      "       'defensive_density', 'speed', 'time_delta_i', 'dx_a0i', 'dy_a0i',\n",
      "       'mov_a0i'],\n",
      "      dtype='object')\n"
     ]
    }
   ],
   "source": [
    "print(df.columns)"
   ]
  },
  {
   "cell_type": "code",
   "execution_count": 5,
   "metadata": {},
   "outputs": [
    {
     "data": {
      "text/html": [
       "<div>\n",
       "<style scoped>\n",
       "    .dataframe tbody tr th:only-of-type {\n",
       "        vertical-align: middle;\n",
       "    }\n",
       "\n",
       "    .dataframe tbody tr th {\n",
       "        vertical-align: top;\n",
       "    }\n",
       "\n",
       "    .dataframe thead th {\n",
       "        text-align: right;\n",
       "    }\n",
       "</style>\n",
       "<table border=\"1\" class=\"dataframe\">\n",
       "  <thead>\n",
       "    <tr style=\"text-align: right;\">\n",
       "      <th></th>\n",
       "      <th>game_id</th>\n",
       "      <th>timestamp</th>\n",
       "      <th>period</th>\n",
       "      <th>actiontype</th>\n",
       "      <th>actiontype_eventpass</th>\n",
       "      <th>actiontype_eventshot</th>\n",
       "      <th>actiontype_eventturnover</th>\n",
       "      <th>actionresult_success</th>\n",
       "      <th>actionresult_miss</th>\n",
       "      <th>time</th>\n",
       "      <th>...</th>\n",
       "      <th>goalscore_diff</th>\n",
       "      <th>home_strength</th>\n",
       "      <th>visitor_strength</th>\n",
       "      <th>strength_difference</th>\n",
       "      <th>defensive_density</th>\n",
       "      <th>speed</th>\n",
       "      <th>time_delta_i</th>\n",
       "      <th>dx_a0i</th>\n",
       "      <th>dy_a0i</th>\n",
       "      <th>mov_a0i</th>\n",
       "    </tr>\n",
       "  </thead>\n",
       "  <tbody>\n",
       "    <tr>\n",
       "      <th>0</th>\n",
       "      <td>0</td>\n",
       "      <td>1.729120e+12</td>\n",
       "      <td>1</td>\n",
       "      <td>EventPass</td>\n",
       "      <td>1</td>\n",
       "      <td>0</td>\n",
       "      <td>0</td>\n",
       "      <td>1</td>\n",
       "      <td>0</td>\n",
       "      <td>6</td>\n",
       "      <td>...</td>\n",
       "      <td>0</td>\n",
       "      <td>6</td>\n",
       "      <td>6</td>\n",
       "      <td>0</td>\n",
       "      <td>0.4280</td>\n",
       "      <td>6.161367</td>\n",
       "      <td>1.0</td>\n",
       "      <td>-0.9478</td>\n",
       "      <td>2.8805</td>\n",
       "      <td>3.032426</td>\n",
       "    </tr>\n",
       "    <tr>\n",
       "      <th>1</th>\n",
       "      <td>0</td>\n",
       "      <td>1.729120e+12</td>\n",
       "      <td>1</td>\n",
       "      <td>EventPass</td>\n",
       "      <td>1</td>\n",
       "      <td>0</td>\n",
       "      <td>0</td>\n",
       "      <td>1</td>\n",
       "      <td>0</td>\n",
       "      <td>7</td>\n",
       "      <td>...</td>\n",
       "      <td>0</td>\n",
       "      <td>6</td>\n",
       "      <td>6</td>\n",
       "      <td>0</td>\n",
       "      <td>0.4189</td>\n",
       "      <td>2.637392</td>\n",
       "      <td>7.0</td>\n",
       "      <td>19.3504</td>\n",
       "      <td>-20.9293</td>\n",
       "      <td>28.503922</td>\n",
       "    </tr>\n",
       "    <tr>\n",
       "      <th>2</th>\n",
       "      <td>0</td>\n",
       "      <td>1.729120e+12</td>\n",
       "      <td>1</td>\n",
       "      <td>EventPass</td>\n",
       "      <td>1</td>\n",
       "      <td>0</td>\n",
       "      <td>0</td>\n",
       "      <td>1</td>\n",
       "      <td>0</td>\n",
       "      <td>14</td>\n",
       "      <td>...</td>\n",
       "      <td>0</td>\n",
       "      <td>6</td>\n",
       "      <td>6</td>\n",
       "      <td>0</td>\n",
       "      <td>0.0710</td>\n",
       "      <td>0.430129</td>\n",
       "      <td>3.0</td>\n",
       "      <td>-14.4556</td>\n",
       "      <td>11.1611</td>\n",
       "      <td>18.262928</td>\n",
       "    </tr>\n",
       "    <tr>\n",
       "      <th>3</th>\n",
       "      <td>0</td>\n",
       "      <td>1.729120e+12</td>\n",
       "      <td>1</td>\n",
       "      <td>EventShot</td>\n",
       "      <td>0</td>\n",
       "      <td>1</td>\n",
       "      <td>0</td>\n",
       "      <td>0</td>\n",
       "      <td>1</td>\n",
       "      <td>17</td>\n",
       "      <td>...</td>\n",
       "      <td>0</td>\n",
       "      <td>6</td>\n",
       "      <td>6</td>\n",
       "      <td>0</td>\n",
       "      <td>0.0000</td>\n",
       "      <td>7.305552</td>\n",
       "      <td>1.0</td>\n",
       "      <td>0.0000</td>\n",
       "      <td>0.0000</td>\n",
       "      <td>0.000000</td>\n",
       "    </tr>\n",
       "    <tr>\n",
       "      <th>4</th>\n",
       "      <td>0</td>\n",
       "      <td>1.729120e+12</td>\n",
       "      <td>1</td>\n",
       "      <td>EventShot</td>\n",
       "      <td>0</td>\n",
       "      <td>1</td>\n",
       "      <td>0</td>\n",
       "      <td>0</td>\n",
       "      <td>1</td>\n",
       "      <td>18</td>\n",
       "      <td>...</td>\n",
       "      <td>0</td>\n",
       "      <td>6</td>\n",
       "      <td>6</td>\n",
       "      <td>0</td>\n",
       "      <td>0.0000</td>\n",
       "      <td>7.238010</td>\n",
       "      <td>7.0</td>\n",
       "      <td>0.0000</td>\n",
       "      <td>0.0000</td>\n",
       "      <td>0.000000</td>\n",
       "    </tr>\n",
       "  </tbody>\n",
       "</table>\n",
       "<p>5 rows × 32 columns</p>\n",
       "</div>"
      ],
      "text/plain": [
       "   game_id     timestamp  period actiontype  actiontype_eventpass  \\\n",
       "0        0  1.729120e+12       1  EventPass                     1   \n",
       "1        0  1.729120e+12       1  EventPass                     1   \n",
       "2        0  1.729120e+12       1  EventPass                     1   \n",
       "3        0  1.729120e+12       1  EventShot                     0   \n",
       "4        0  1.729120e+12       1  EventShot                     0   \n",
       "\n",
       "   actiontype_eventshot  actiontype_eventturnover  actionresult_success  \\\n",
       "0                     0                         0                     1   \n",
       "1                     0                         0                     1   \n",
       "2                     0                         0                     1   \n",
       "3                     1                         0                     0   \n",
       "4                     1                         0                     0   \n",
       "\n",
       "   actionresult_miss  time  ...  goalscore_diff  home_strength  \\\n",
       "0                  0     6  ...               0              6   \n",
       "1                  0     7  ...               0              6   \n",
       "2                  0    14  ...               0              6   \n",
       "3                  1    17  ...               0              6   \n",
       "4                  1    18  ...               0              6   \n",
       "\n",
       "   visitor_strength  strength_difference  defensive_density     speed  \\\n",
       "0                 6                    0             0.4280  6.161367   \n",
       "1                 6                    0             0.4189  2.637392   \n",
       "2                 6                    0             0.0710  0.430129   \n",
       "3                 6                    0             0.0000  7.305552   \n",
       "4                 6                    0             0.0000  7.238010   \n",
       "\n",
       "   time_delta_i   dx_a0i   dy_a0i    mov_a0i  \n",
       "0           1.0  -0.9478   2.8805   3.032426  \n",
       "1           7.0  19.3504 -20.9293  28.503922  \n",
       "2           3.0 -14.4556  11.1611  18.262928  \n",
       "3           1.0   0.0000   0.0000   0.000000  \n",
       "4           7.0   0.0000   0.0000   0.000000  \n",
       "\n",
       "[5 rows x 32 columns]"
      ]
     },
     "execution_count": 5,
     "metadata": {},
     "output_type": "execute_result"
    }
   ],
   "source": [
    "df.head(5)"
   ]
  },
  {
   "cell_type": "code",
   "execution_count": 6,
   "metadata": {},
   "outputs": [
    {
     "name": "stdout",
     "output_type": "stream",
     "text": [
      "actiontype\n",
      "EventPass        79135\n",
      "EventShot        22708\n",
      "EventTurnover       76\n",
      "Name: count, dtype: int64\n"
     ]
    }
   ],
   "source": [
    "unique_counts = df['actiontype'].value_counts()\n",
    "print(unique_counts)\n",
    "# 874 GOALS CONFIRMED"
   ]
  },
  {
   "cell_type": "code",
   "execution_count": 8,
   "metadata": {},
   "outputs": [],
   "source": [
    "df = df.drop(columns=['timestamp'])"
   ]
  },
  {
   "cell_type": "code",
   "execution_count": 9,
   "metadata": {},
   "outputs": [
    {
     "data": {
      "text/plain": [
       "101919"
      ]
     },
     "execution_count": 9,
     "metadata": {},
     "output_type": "execute_result"
    }
   ],
   "source": [
    "len(df)"
   ]
  },
  {
   "cell_type": "code",
   "execution_count": null,
   "metadata": {},
   "outputs": [],
   "source": [
    "def standardize_attack_direction_with_period(df):\n",
    "    df = df.copy()\n",
    "\n",
    "    # Group the actions by each game\n",
    "    for game_id, game_df in df.groupby('game_id'):\n",
    "            \n",
    "        first_period_shots = game_df[(game_df['period'] == 1) & (game_df['actiontype_eventshot'] == 1)]\n",
    "\n",
    "        # Only proceed if both teams have at least one shot\n",
    "        if first_period_shots['team'].nunique() < 2:\n",
    "            print(\"WARNING\")\n",
    "            continue\n",
    "\n",
    "        # Calculate mean or median start_x_ai per team\n",
    "        team_avg_x = first_period_shots.groupby('team')['start_x_ai'].median()\n",
    "\n",
    "        # Team with lower start_x_ai is attacking left\n",
    "        att_left_team = team_avg_x.idxmin()\n",
    "            \n",
    "        # Iterate over the game data and apply the period-based flipping logic\n",
    "        for idx, row in game_df.iterrows():\n",
    "            flip = False\n",
    "            \n",
    "            # Get the period for this action\n",
    "            period = row['period']\n",
    "            att_team = row['team']\n",
    "            \n",
    "            # Determine which direction the team should be attacking based on period\n",
    "            if (period % 2 == 1 and (att_team == att_left_team)) or (period % 2 == 0 and (att_team != att_left_team)):\n",
    "                # This means the team should be flipped in this period\n",
    "                flip = True\n",
    "            # If the expected direction does not match the actual direction, flip the action\n",
    "            if flip:\n",
    "                # Flip the coordinates (x and z) for the action\n",
    "                df.loc[idx, ['start_x_ai', 'end_x_ai']] *= -1\n",
    "                df.loc[idx, ['start_z_ai', 'end_z_ai']] *= -1\n",
    "\n",
    "    return df"
   ]
  },
  {
   "cell_type": "code",
   "execution_count": 11,
   "metadata": {},
   "outputs": [
    {
     "name": "stdout",
     "output_type": "stream",
     "text": [
      "WARNING: game 144 heeft geen betrouwbare richtingbepaling\n"
     ]
    }
   ],
   "source": [
    "actions_df = standardize_attack_direction_with_period(df)"
   ]
  },
  {
   "cell_type": "code",
   "execution_count": 12,
   "metadata": {},
   "outputs": [
    {
     "name": "stdout",
     "output_type": "stream",
     "text": [
      "Percentage of wrong-direction goals: 0.46%\n"
     ]
    }
   ],
   "source": [
    "successful_shots = actions_df[actions_df['actiontype_eventshot'] == 1]\n",
    "successful_shots = successful_shots[successful_shots['actionresult_success'] == 1]\n",
    "\n",
    "# Shots that end in left goal (x = -26.95)\n",
    "wrong_direction = successful_shots[successful_shots['end_x_ai'] == -26.95]\n",
    "\n",
    "# Percentage\n",
    "error_rate = len(wrong_direction) / len(successful_shots) * 100\n",
    "print(f\"Percentage of wrong-direction goals: {error_rate:.2f}%\")"
   ]
  },
  {
   "cell_type": "code",
   "execution_count": 14,
   "metadata": {},
   "outputs": [],
   "source": [
    "def count_and_filter_possession_sequences(actions_df, max_gap_seconds=8, min_count=3):\n",
    "    actions_df = actions_df.copy()\n",
    "    actions_df[\"sequence_id\"] = None\n",
    "\n",
    "    current_team = None\n",
    "    last_time = None\n",
    "    sequence_id = -1\n",
    "    count_in_sequence = 0\n",
    "    indices_in_sequence = []\n",
    "\n",
    "    for i in range(len(actions_df)):\n",
    "        row = actions_df.iloc[i]\n",
    "        team = row[\"team\"]\n",
    "        time = row[\"time\"]\n",
    "\n",
    "        if team == current_team and (time - last_time <= max_gap_seconds):\n",
    "            count_in_sequence += 1\n",
    "            indices_in_sequence.append(i)\n",
    "        else:\n",
    "            if count_in_sequence >= min_count:\n",
    "                for idx in indices_in_sequence:\n",
    "                    actions_df.at[idx, \"sequence_id\"] = sequence_id\n",
    "            # reset sequence\n",
    "            sequence_id += 1\n",
    "            current_team = team\n",
    "            count_in_sequence = 1\n",
    "            indices_in_sequence = [i]\n",
    "\n",
    "        last_time = time\n",
    "\n",
    "    # Final sequence check\n",
    "    if count_in_sequence >= min_count:\n",
    "        for idx in indices_in_sequence:\n",
    "            actions_df.at[idx, \"sequence_id\"] = sequence_id\n",
    "\n",
    "    # Keep only valid sequences\n",
    "    actions_df = actions_df[actions_df[\"sequence_id\"].notna()].copy()\n",
    "    actions_df[\"sequence_id\"] = actions_df[\"sequence_id\"].astype(int)\n",
    "\n",
    "    return actions_df"
   ]
  },
  {
   "cell_type": "code",
   "execution_count": 15,
   "metadata": {},
   "outputs": [],
   "source": [
    "clean_df = count_and_filter_possession_sequences(actions_df, 8, 3)"
   ]
  },
  {
   "cell_type": "code",
   "execution_count": null,
   "metadata": {},
   "outputs": [],
   "source": [
    "clean_df.to_pickle('../testing/clean_df.pkl')\n",
    "actions_df.to_pickle('data/dirty_df.pkl')"
   ]
  },
  {
   "cell_type": "code",
   "execution_count": 17,
   "metadata": {},
   "outputs": [
    {
     "name": "stdout",
     "output_type": "stream",
     "text": [
      "67276\n"
     ]
    }
   ],
   "source": [
    "print(len(clean_df))"
   ]
  },
  {
   "cell_type": "code",
   "execution_count": 18,
   "metadata": {},
   "outputs": [],
   "source": [
    "def scores(actions_df, nr_actions=4):\n",
    "    goals = (actions_df[\"actiontype\"] == \"EventShot\") & (actions_df[\"actionresult_success\"] == 1)\n",
    "\n",
    "    y = pd.DataFrame({\n",
    "        \"goal\": goals,\n",
    "        \"team\": actions_df[\"team\"],\n",
    "        \"possession\": actions_df[\"team\"]  # assuming possession = team here\n",
    "    })\n",
    "\n",
    "    for i in range(1, nr_actions):\n",
    "        for c in [\"goal\", \"team\", \"possession\"]:\n",
    "            shifted = y[c].shift(-i)\n",
    "            if c == \"goal\":\n",
    "                shifted[-i:] = False\n",
    "            else:\n",
    "                shifted[-i:] = None\n",
    "            y[f\"{c}+{i}\"] = shifted\n",
    "\n",
    "    res = y[\"goal\"].copy()\n",
    "\n",
    "    # Track whether possession has stayed the same up to each step\n",
    "    possession_mask = pd.Series(True, index=y.index)\n",
    "\n",
    "    for i in range(1, nr_actions):\n",
    "        still_same_possession = y[f\"possession+{i}\"] == y[\"possession\"]\n",
    "        possession_mask = possession_mask & still_same_possession.fillna(False)\n",
    "\n",
    "        same_team_goal = y[f\"goal+{i}\"] & (y[f\"team+{i}\"] == y[\"team\"])\n",
    "        valid = possession_mask & same_team_goal\n",
    "        res = res | valid\n",
    "\n",
    "    return pd.DataFrame(res, columns=[\"scores\"])"
   ]
  },
  {
   "cell_type": "code",
   "execution_count": 19,
   "metadata": {},
   "outputs": [],
   "source": [
    "def concedes(actions_df, nr_actions=4):\n",
    "    # Detect which actions are goals\n",
    "    goals = (actions_df[\"actiontype\"] == \"EventShot\") & (actions_df[\"actionresult_success\"] == 1)\n",
    "\n",
    "    # Current team (assumed to be in possession)\n",
    "    team = actions_df[\"team\"]\n",
    "\n",
    "    # Initialize result as all False\n",
    "    res = pd.Series(False, index=actions_df.index)\n",
    "\n",
    "    for idx in range(len(actions_df)):\n",
    "        original_team = team.iloc[idx]\n",
    "        possession_changed = False\n",
    "\n",
    "        for i in range(1, nr_actions):\n",
    "            if idx + i >= len(actions_df):\n",
    "                break\n",
    "\n",
    "            future_team = team.iloc[idx + i]\n",
    "            future_goal = goals.iloc[idx + i]\n",
    "\n",
    "            if not possession_changed:\n",
    "                if future_team != original_team:\n",
    "                    possession_changed = True\n",
    "            else:\n",
    "                # Possession changed again – stop looking further\n",
    "                if future_team == original_team:\n",
    "                    break\n",
    "\n",
    "            # If goal is scored by opponent after a single possession change\n",
    "            if possession_changed and future_goal and future_team != original_team:\n",
    "                res.iloc[idx] = True\n",
    "                break  # No need to check further\n",
    "\n",
    "    return pd.DataFrame(res, columns=[\"concedes\"])"
   ]
  },
  {
   "cell_type": "code",
   "execution_count": 20,
   "metadata": {},
   "outputs": [],
   "source": [
    "Y_scores = scores(actions_df)\n",
    "Y_concedes = concedes(actions_df)\n",
    "Y = pd.concat([Y_scores, Y_concedes], axis=1)"
   ]
  },
  {
   "cell_type": "code",
   "execution_count": 21,
   "metadata": {},
   "outputs": [],
   "source": [
    "Y_scores_clean = scores(clean_df, 4)\n",
    "Y_concedes_clean = concedes(clean_df, 4)\n",
    "Y_clean = pd.concat([Y_scores_clean, Y_concedes_clean], axis=1)"
   ]
  },
  {
   "cell_type": "code",
   "execution_count": 22,
   "metadata": {},
   "outputs": [],
   "source": [
    "n = 3"
   ]
  },
  {
   "cell_type": "code",
   "execution_count": 23,
   "metadata": {},
   "outputs": [],
   "source": [
    "actions_df = actions_df.drop(['actiontype', 'game_id', 'home_strength', 'visitor_strength', 'goalscore_team', 'goalscore_opponent'], axis=1)"
   ]
  },
  {
   "cell_type": "code",
   "execution_count": 24,
   "metadata": {},
   "outputs": [],
   "source": [
    "clean_df = clean_df.drop(['actiontype', 'game_id', 'home_strength', 'visitor_strength', 'goalscore_team', 'goalscore_opponent', 'sequence_id'], axis=1)"
   ]
  },
  {
   "cell_type": "code",
   "execution_count": 25,
   "metadata": {},
   "outputs": [],
   "source": [
    "def add_previous_actions_features(df, n=1, exclude_columns=None):\n",
    "    \"\"\"\n",
    "    Appends features from previous n actions to each row in the dataframe.\n",
    "\n",
    "    Parameters:\n",
    "    - df: pd.DataFrame of actions\n",
    "    - n: number of previous actions to include\n",
    "    - exclude_columns: list of column names to exclude from copying\n",
    "\n",
    "    Returns:\n",
    "    - pd.DataFrame with additional columns for previous actions\n",
    "    \"\"\"\n",
    "    df = df.reset_index(drop=True)  # Ensure a clean index\n",
    "    output = df.copy()\n",
    "    \n",
    "    if exclude_columns is None:\n",
    "        exclude_columns = []\n",
    "\n",
    "    for i in range(1, n + 1):\n",
    "        shifted = df.shift(i).add_suffix(f\"_prev{i}\")\n",
    "        # Drop excluded columns\n",
    "        for col in exclude_columns:\n",
    "            if col in df.columns:\n",
    "                shifted.drop(f\"{col}_prev{i}\", axis=1, inplace=True, errors='ignore')\n",
    "        output = pd.concat([output, shifted], axis=1)\n",
    "\n",
    "    return output"
   ]
  },
  {
   "cell_type": "code",
   "execution_count": 26,
   "metadata": {},
   "outputs": [],
   "source": [
    "gamestates = add_previous_actions_features(actions_df, n)\n",
    "Y = Y.iloc[n:]\n",
    "X = gamestates.iloc[n:]"
   ]
  },
  {
   "cell_type": "code",
   "execution_count": 27,
   "metadata": {},
   "outputs": [
    {
     "name": "stdout",
     "output_type": "stream",
     "text": [
      "100\n"
     ]
    }
   ],
   "source": [
    "print(len(X.columns))"
   ]
  },
  {
   "cell_type": "code",
   "execution_count": 28,
   "metadata": {},
   "outputs": [],
   "source": [
    "gamestates_clean = add_previous_actions_features(clean_df, n)\n",
    "Y_clean = Y_clean.iloc[n:]\n",
    "X_clean = gamestates_clean.iloc[n:]"
   ]
  },
  {
   "cell_type": "code",
   "execution_count": null,
   "metadata": {},
   "outputs": [],
   "source": [
    "X.to_pickle('data/X.pkl')\n",
    "Y.to_pickle('data/Y.pkl')"
   ]
  },
  {
   "cell_type": "code",
   "execution_count": null,
   "metadata": {},
   "outputs": [],
   "source": [
    "X_clean.to_pickle('../testing/X_clean.pkl')\n",
    "Y_clean.to_pickle('../testing/Y_clean.pkl')"
   ]
  },
  {
   "cell_type": "code",
   "execution_count": 31,
   "metadata": {},
   "outputs": [],
   "source": [
    "def calculate_average_possession_length(df, max_gap_seconds=5):\n",
    "    # Initialize variables for possession sequence calculation\n",
    "    sequence_lengths = []\n",
    "    current_team = None\n",
    "    last_time = None\n",
    "    count_in_sequence = 0\n",
    "\n",
    "    # Loop through the DataFrame to calculate sequences\n",
    "    for i, row in df.iterrows():\n",
    "        team = row['team']\n",
    "        time = row['time']\n",
    "        \n",
    "        if current_team is None or (team == current_team and time - last_time <= max_gap_seconds):\n",
    "            # Continue the current possession sequence\n",
    "            count_in_sequence += 1\n",
    "        else:\n",
    "            # End the current sequence and start a new one\n",
    "            sequence_lengths.append(count_in_sequence)\n",
    "            count_in_sequence = 1  # Reset for new sequence\n",
    "\n",
    "        # Update the team and last time\n",
    "        current_team = team\n",
    "        last_time = time\n",
    "    \n",
    "    # Append the final sequence length\n",
    "    if count_in_sequence > 0:\n",
    "        sequence_lengths.append(count_in_sequence)\n",
    "\n",
    "    # Calculate and return the average possession length\n",
    "    average_length = sum(sequence_lengths) / len(sequence_lengths) if sequence_lengths else 0\n",
    "    print(f\"Average possession sequence length: {average_length:.2f} actions\")\n",
    "    return average_length"
   ]
  },
  {
   "cell_type": "code",
   "execution_count": 32,
   "metadata": {},
   "outputs": [
    {
     "name": "stdout",
     "output_type": "stream",
     "text": [
      "Actions_df total actions: 101919\n",
      "Clean_df total actions: 67276\n"
     ]
    }
   ],
   "source": [
    "print(\"Actions_df total actions:\", len(actions_df))\n",
    "print(\"Clean_df total actions:\", len(clean_df))"
   ]
  },
  {
   "cell_type": "code",
   "execution_count": 33,
   "metadata": {},
   "outputs": [
    {
     "name": "stdout",
     "output_type": "stream",
     "text": [
      "Average possession length (actions_df):\n",
      "Average possession sequence length: 2.17 actions\n",
      "\n",
      "Average possession length (clean_df):\n",
      "Average possession sequence length: 3.34 actions\n"
     ]
    },
    {
     "data": {
      "text/plain": [
       "3.3390907286082987"
      ]
     },
     "execution_count": 33,
     "metadata": {},
     "output_type": "execute_result"
    }
   ],
   "source": [
    "# Calculate and print the average possession length for both dataframes\n",
    "print(\"Average possession length (actions_df):\")\n",
    "calculate_average_possession_length(actions_df)\n",
    "\n",
    "print(\"\\nAverage possession length (clean_df):\")\n",
    "calculate_average_possession_length(clean_df)"
   ]
  },
  {
   "cell_type": "code",
   "execution_count": null,
   "metadata": {},
   "outputs": [
    {
     "name": "stdout",
     "output_type": "stream",
     "text": [
      "Average goals per game: 3.85\n"
     ]
    }
   ],
   "source": [
    "# Filter for only successful shots (goals)\n",
    "filtered_df = clean_df[(clean_df['actiontype_eventshot'] == 1) & (clean_df['actionresult_success'] == 1)]\n",
    "\n",
    "# Group by game_id and count goals\n",
    "average_goals_per_game = filtered_df.groupby(\"game_id\").size().mean()\n",
    "\n",
    "print(f\"Average goals per game: {average_goals_per_game:.2f}\")"
   ]
  }
 ],
 "metadata": {
  "kernelspec": {
   "display_name": "base",
   "language": "python",
   "name": "python3"
  },
  "language_info": {
   "codemirror_mode": {
    "name": "ipython",
    "version": 3
   },
   "file_extension": ".py",
   "mimetype": "text/x-python",
   "name": "python",
   "nbconvert_exporter": "python",
   "pygments_lexer": "ipython3",
   "version": "3.12.9"
  }
 },
 "nbformat": 4,
 "nbformat_minor": 2
}
